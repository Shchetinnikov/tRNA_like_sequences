{
 "cells": [
  {
   "cell_type": "code",
   "execution_count": 1,
   "id": "89cb7b91",
   "metadata": {},
   "outputs": [],
   "source": [
    "import os\n",
    "import numpy as np"
   ]
  },
  {
   "cell_type": "code",
   "execution_count": 2,
   "id": "9e6b0def",
   "metadata": {},
   "outputs": [
    {
     "data": {
      "text/plain": [
       "['.ipynb_checkpoints',\n",
       " 'MeanStd.ipynb',\n",
       " 'res.txt',\n",
       " 'w-ALA+.txt',\n",
       " 'w-ALA-.txt',\n",
       " 'w-ARG+.txt',\n",
       " 'w-ARG-.txt',\n",
       " 'w-ASN+.txt',\n",
       " 'w-ASN-.txt',\n",
       " 'w-ASP+.txt',\n",
       " 'w-ASP-.txt',\n",
       " 'w-CYS+.txt',\n",
       " 'w-CYS-.txt',\n",
       " 'w-GLN+.txt',\n",
       " 'w-GLN-.txt',\n",
       " 'w-GLU+.txt',\n",
       " 'w-GLU-.txt',\n",
       " 'w-GLY+.txt',\n",
       " 'w-GLY-.txt',\n",
       " 'w-HIS+.txt',\n",
       " 'w-HIS-.txt',\n",
       " 'w-ILE+.txt',\n",
       " 'w-ILE-.txt',\n",
       " 'w-LEU+.txt',\n",
       " 'w-LEU-.txt',\n",
       " 'w-LYS+.txt',\n",
       " 'w-LYS-.txt',\n",
       " 'w-MET+.txt',\n",
       " 'w-MET-.txt',\n",
       " 'w-PHE+.txt',\n",
       " 'w-PHE-.txt',\n",
       " 'w-PRO+.txt',\n",
       " 'w-PRO-.txt',\n",
       " 'w-SEC+.txt',\n",
       " 'w-SEC-.txt',\n",
       " 'w-SER+.txt',\n",
       " 'w-SER-.txt']"
      ]
     },
     "execution_count": 2,
     "metadata": {},
     "output_type": "execute_result"
    }
   ],
   "source": [
    "os.listdir()"
   ]
  },
  {
   "cell_type": "code",
   "execution_count": 3,
   "id": "257b7b98",
   "metadata": {},
   "outputs": [],
   "source": [
    "# with open(file_name, 'r') as file:\n",
    "#     lines = np.array([float(item) for item in ''.join(file.readlines()).split('\\n')[:-1]])\n",
    "\n",
    "# lines"
   ]
  },
  {
   "cell_type": "code",
   "execution_count": 4,
   "id": "3ee60462",
   "metadata": {},
   "outputs": [
    {
     "name": "stdout",
     "output_type": "stream",
     "text": [
      "w-ALA+.txt 30.41268518681319 2.323307019476247\n",
      "w-ALA-.txt 42.65808392776523 2.6341219640282403\n",
      "w-ARG+.txt 26.556257549019605 2.1936334350690445\n",
      "w-ARG-.txt 8.994200098765432 1.4031619541290132\n",
      "w-ASN+.txt 24.493012 2.2601691332864755\n",
      "w-ASN-.txt 41.19469115479116 2.5523641557385885\n",
      "w-ASP+.txt 9.348622384236451 1.4722787096224736\n",
      "w-ASP-.txt 19.934886856042368 2.094591612619241\n",
      "w-CYS+.txt 18.343219367396593 2.1344152350458208\n",
      "w-CYS-.txt 36.256694797136035 2.5654098730963226\n",
      "w-GLN+.txt 25.6065859057072 2.216252646339494\n",
      "w-GLN-.txt 23.822754801980196 2.136649744377915\n",
      "w-GLU+.txt 14.404244534313726 1.747992226738751\n",
      "w-GLU-.txt 48.31617306930693 2.853012473418695\n",
      "w-GLY+.txt 27.77837279375914 2.4002446051303368\n",
      "w-GLY-.txt 27.641010492610835 2.3755267202649732\n",
      "w-HIS+.txt 3.524562920792079 0.8643834771417299\n",
      "w-HIS-.txt 8.498131330024814 1.3925778657328465\n",
      "w-ILE+.txt 16.590225147058824 1.9159872544527712\n",
      "w-ILE-.txt 13.864222841584159 1.7507253902652893\n",
      "w-LEU+.txt 26.08340516821063 2.240326228051655\n",
      "w-LEU-.txt 25.49934067961165 2.172236696899046\n",
      "w-LYS+.txt 33.56677824390244 2.4385959132784545\n",
      "w-LYS-.txt 31.72577403422983 2.385226212776883\n",
      "w-MET+.txt 3.222957657335907 0.8529223445107432\n",
      "w-MET-.txt 6.158262488584475 1.1591475380210035\n",
      "w-PHE+.txt 0.7231239196242718 0.4366893530658043\n",
      "w-PHE-.txt 21.298915717761556 2.211925959202484\n",
      "w-PRO+.txt 27.362322933985332 2.3444088809949966\n",
      "w-PRO-.txt 14.618383112745098 1.8951328644888341\n",
      "w-SEC+.txt 0.8238496404299517 0.4404361915579106\n",
      "w-SEC-.txt 0.47423827987696854 0.35281321349994016\n",
      "w-SER+.txt 21.662231490384617 2.1557791669169557\n",
      "w-SER-.txt 13.692012785365854 1.8297991973954337\n"
     ]
    }
   ],
   "source": [
    "for file_name in os.listdir():\n",
    "    if 'w-' in file_name:\n",
    "        with open(file_name, 'r') as file:\n",
    "            lines = np.array([float(item) for item in ''.join(file.readlines()).split('\\n')[:-1]])\n",
    "            print(file_name, np.mean(lines), np.std(lines))"
   ]
  },
  {
   "cell_type": "code",
   "execution_count": 6,
   "id": "d84688ed",
   "metadata": {},
   "outputs": [],
   "source": [
    "# np.mean(lines)"
   ]
  },
  {
   "cell_type": "code",
   "execution_count": 7,
   "id": "7d755607",
   "metadata": {},
   "outputs": [],
   "source": [
    "# np.std(lines)"
   ]
  },
  {
   "cell_type": "code",
   "execution_count": null,
   "id": "e67cad65",
   "metadata": {},
   "outputs": [],
   "source": []
  },
  {
   "cell_type": "code",
   "execution_count": 6,
   "id": "e5cc0498",
   "metadata": {},
   "outputs": [
    {
     "data": {
      "text/plain": [
       "42.657210721539286"
      ]
     },
     "execution_count": 6,
     "metadata": {},
     "output_type": "execute_result"
    }
   ],
   "source": [
    "np.mean(lines_shuffled)"
   ]
  },
  {
   "cell_type": "code",
   "execution_count": 7,
   "id": "20cdac67",
   "metadata": {},
   "outputs": [
    {
     "data": {
      "text/plain": [
       "2.6668100018454206"
      ]
     },
     "execution_count": 7,
     "metadata": {},
     "output_type": "execute_result"
    }
   ],
   "source": []
  },
  {
   "cell_type": "code",
   "execution_count": 19,
   "id": "4c5633aa",
   "metadata": {},
   "outputs": [
    {
     "name": "stdout",
     "output_type": "stream",
     "text": [
      "28.553635619454266\n",
      "2.5773451473911337\n"
     ]
    }
   ],
   "source": [
    "file_name_shuffled = 'res_shuffled_W_tcoffee.txt'\n",
    "with open(file_name_shuffled, 'r') as file:\n",
    "    lines = np.array([float(item) for item in ''.join(file.readlines()).split('\\n')[:-2]])\n",
    "    \n",
    "print(np.mean(lines))\n",
    "print(np.std(lines))"
   ]
  },
  {
   "cell_type": "code",
   "execution_count": 20,
   "id": "b4944e8d",
   "metadata": {},
   "outputs": [
    {
     "name": "stdout",
     "output_type": "stream",
     "text": [
      "28.635393348455537\n",
      "2.4670718328807175\n"
     ]
    }
   ],
   "source": [
    "file_name_shuffled =  'res_shuffled_W_mahds.txt'\n",
    "with open(file_name_shuffled, 'r') as file:\n",
    "    lines = np.array([float(item) for item in ''.join(file.readlines()).split('\\n')[:-2]])\n",
    "    \n",
    "print(np.mean(lines))\n",
    "print(np.std(lines))"
   ]
  },
  {
   "cell_type": "code",
   "execution_count": null,
   "id": "302ca804",
   "metadata": {},
   "outputs": [],
   "source": []
  }
 ],
 "metadata": {
  "kernelspec": {
   "display_name": "Python 3",
   "language": "python",
   "name": "python3"
  },
  "language_info": {
   "codemirror_mode": {
    "name": "ipython",
    "version": 3
   },
   "file_extension": ".py",
   "mimetype": "text/x-python",
   "name": "python",
   "nbconvert_exporter": "python",
   "pygments_lexer": "ipython3",
   "version": "3.8.8"
  }
 },
 "nbformat": 4,
 "nbformat_minor": 5
}
