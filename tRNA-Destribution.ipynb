{
 "cells": [
  {
   "cell_type": "code",
   "execution_count": 1,
   "id": "626893d5",
   "metadata": {},
   "outputs": [],
   "source": [
    "import os\n",
    "import numpy as np"
   ]
  },
  {
   "cell_type": "code",
   "execution_count": 2,
   "id": "3e9bc3a4",
   "metadata": {},
   "outputs": [
    {
     "data": {
      "text/plain": [
       "['.ipynb_checkpoints',\n",
       " 'tRNA-Destribution.ipynb',\n",
       " 'tRNAs_of_Homo_sapiens_(hg19_-_NCBI_Build_37.1).fa']"
      ]
     },
     "execution_count": 2,
     "metadata": {},
     "output_type": "execute_result"
    }
   ],
   "source": [
    "os.listdir()"
   ]
  },
  {
   "cell_type": "code",
   "execution_count": 3,
   "id": "c80dbb21",
   "metadata": {},
   "outputs": [],
   "source": [
    "with open('tRNAs_of_Homo_sapiens_(hg19_-_NCBI_Build_37.1).fa', 'r') as file:\n",
    "    lines = file.readlines()"
   ]
  },
  {
   "cell_type": "code",
   "execution_count": 4,
   "id": "3b186e7c",
   "metadata": {},
   "outputs": [
    {
     "data": {
      "text/plain": [
       "22"
      ]
     },
     "execution_count": 4,
     "metadata": {},
     "output_type": "execute_result"
    }
   ],
   "source": [
    "amino = {'Ala': {'+': [], '-': []}, 'Arg': {'+': [], '-': []}, \n",
    "         'Asn': {'+': [], '-': []}, 'Asp': {'+': [], '-': []}, \n",
    "         'Cys': {'+': [], '-': []}, 'Gln': {'+': [], '-': []}, \n",
    "         'Glu': {'+': [], '-': []}, 'Gly': {'+': [], '-': []},\n",
    "         'His': {'+': [], '-': []}, 'Ile': {'+': [], '-': []}, \n",
    "         'Leu': {'+': [], '-': []}, 'Lys': {'+': [], '-': []}, \n",
    "         'Met': {'+': [], '-': []}, 'Phe': {'+': [], '-': []}, \n",
    "         'Pro': {'+': [], '-': []}, 'SeC': {'+': [], '-': []},\n",
    "         'Ser': {'+': [], '-': []}, 'Sup': {'+': [], '-': []}, \n",
    "         'Thr': {'+': [], '-': []}, 'Trp': {'+': [], '-': []}, \n",
    "         'Tyr': {'+': [], '-': []}, 'Val': {'+': [], '-': []}}\n",
    "head = 'Homo_sapiens_'\n",
    "len(amino)"
   ]
  },
  {
   "cell_type": "code",
   "execution_count": 5,
   "id": "78ed03dd",
   "metadata": {},
   "outputs": [],
   "source": [
    "lines = ''.join(lines).split('\\n>')"
   ]
  },
  {
   "cell_type": "code",
   "execution_count": 6,
   "id": "8ef17885",
   "metadata": {},
   "outputs": [
    {
     "data": {
      "text/plain": [
       "625"
      ]
     },
     "execution_count": 6,
     "metadata": {},
     "output_type": "execute_result"
    }
   ],
   "source": [
    "len(lines)"
   ]
  },
  {
   "cell_type": "code",
   "execution_count": 7,
   "id": "2ce96d0c",
   "metadata": {},
   "outputs": [],
   "source": [
    "def destrib(name, start, end, line):\n",
    "    if start <= end:\n",
    "        amino[name]['+'].append(line)\n",
    "    else:\n",
    "        amino[name]['-'].append(line)"
   ]
  },
  {
   "cell_type": "code",
   "execution_count": 8,
   "id": "f54feadc",
   "metadata": {},
   "outputs": [],
   "source": [
    "for line in lines:\n",
    "    try:\n",
    "        start, end = [int(el) for el in line.split(' ')[2].split('(')[1].split(')')[0].split('-')]\n",
    "            \n",
    "        if head + 'Ala' in line:\n",
    "            destrib('Ala', start, end, line)\n",
    "        if head + 'Arg' in line:\n",
    "            destrib('Arg', start, end, line)\n",
    "        if head + 'Asn' in line:\n",
    "            destrib('Asn', start, end, line)\n",
    "        if head + 'Asp' in line:\n",
    "            destrib('Asp', start, end, line)\n",
    "        if head + 'Cys' in line:\n",
    "            destrib('Cys', start, end, line)\n",
    "        if head + 'Gln' in line:\n",
    "            destrib('Gln', start, end, line)\n",
    "        if head + 'Glu' in line:\n",
    "            destrib('Glu', start, end, line)\n",
    "        if head + 'Gly' in line:\n",
    "            destrib('Gly', start, end, line)\n",
    "        if head + 'His' in line:\n",
    "            destrib('His', start, end, line)\n",
    "        if head + 'Ile' in line:\n",
    "            destrib('Ile', start, end, line)\n",
    "        if head + 'Leu' in line:\n",
    "            destrib('Leu', start, end, line)\n",
    "        if head + 'Lys' in line:\n",
    "            destrib('Lys', start, end, line)\n",
    "        if head + 'Met' in line:\n",
    "            destrib('Met', start, end, line)\n",
    "        if head + 'Phe' in line:\n",
    "            destrib('Phe', start, end, line)\n",
    "        if head + 'Pro' in line:\n",
    "            destrib('Pro', start, end, line)\n",
    "        if head + 'SeC' in line:\n",
    "            destrib('SeC', start, end, line)\n",
    "        if head + 'Ser' in line:\n",
    "            destrib('Ser', start, end, line)\n",
    "        if head + 'Sup' in line:\n",
    "            destrib('Sup', start, end, line)\n",
    "        if head + 'Thr' in line:\n",
    "            destrib('Thr', start, end, line)\n",
    "        if head + 'Trp' in line:\n",
    "            destrib('Trp', start, end, line)\n",
    "        if head + 'Tyr' in line:\n",
    "            destrib('Tyr', start, end, line)\n",
    "        if head + 'Val' in line:\n",
    "            destrib('Val', start, end, line)\n",
    "\n",
    "    except IndexError as e:\n",
    "        pass"
   ]
  },
  {
   "cell_type": "code",
   "execution_count": 9,
   "id": "2861ccae",
   "metadata": {},
   "outputs": [],
   "source": [
    "for key, value in amino.items():\n",
    "    \n",
    "    with open(f'trna-{key}(+).fa', 'a') as file:\n",
    "        for lines in value['+']:\n",
    "            header = lines.split('\\n')[0]\n",
    "            line = ''.join(lines.split('\\n')[1:])\n",
    "            \n",
    "            if '>' in header:\n",
    "                file.write(header + '\\n' + line + '\\n\\n')\n",
    "            else:\n",
    "                file.write('>' + header + '\\n' + line + '\\n\\n')\n",
    "    \n",
    "    with open(f'trna-{key}(-).fa', 'a') as file:\n",
    "        for lines in value['-']:\n",
    "            header = lines.split('\\n')[0]\n",
    "            line = ''.join(lines.split('\\n')[1:])\n",
    "            \n",
    "            if '>' in header:\n",
    "                file.write(header + '\\n' + line + '\\n\\n')\n",
    "            else:\n",
    "                file.write('>' + header + '\\n' + line + '\\n\\n')"
   ]
  }
 ],
 "metadata": {
  "kernelspec": {
   "display_name": "Python 3",
   "language": "python",
   "name": "python3"
  },
  "language_info": {
   "codemirror_mode": {
    "name": "ipython",
    "version": 3
   },
   "file_extension": ".py",
   "mimetype": "text/x-python",
   "name": "python",
   "nbconvert_exporter": "python",
   "pygments_lexer": "ipython3",
   "version": "3.8.8"
  }
 },
 "nbformat": 4,
 "nbformat_minor": 5
}
