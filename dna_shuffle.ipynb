{
 "cells": [
  {
   "cell_type": "code",
   "execution_count": 2,
   "metadata": {
    "colab": {
     "base_uri": "https://localhost:8080/"
    },
    "id": "0CwSvumhWK43",
    "outputId": "6e797e8a-959f-4b8f-aaf5-14579b690229"
   },
   "outputs": [],
   "source": [
    "import numpy as np\n",
    "import os"
   ]
  },
  {
   "cell_type": "code",
   "execution_count": 3,
   "metadata": {},
   "outputs": [
    {
     "data": {
      "text/plain": [
       "['.ipynb_checkpoints',\n",
       " 'dna_shuffle.ipynb',\n",
       " 'origin.fa',\n",
       " 'results',\n",
       " 'trna-Ala(-).fa']"
      ]
     },
     "execution_count": 3,
     "metadata": {},
     "output_type": "execute_result"
    }
   ],
   "source": [
    "os.listdir()"
   ]
  },
  {
   "cell_type": "code",
   "execution_count": 14,
   "metadata": {},
   "outputs": [],
   "source": [
    "lines_len = 60\n",
    "file_name = 'origin.fa'\n",
    "file_name_sh = 'shuffled.fa'\n",
    "\n",
    "with open(file_name, 'r') as file:\n",
    "    lines = list(''.join(''.join(file.readlines()).split('\\n')))\n",
    "    np.random.shuffle(lines)\n",
    "\n",
    "with open(file_name_sh, 'w') as file:\n",
    "    for i in range(len(lines)):\n",
    "        file.write(lines[i])\n",
    "        if i % lines_len == 0:\n",
    "            file.write('\\n')"
   ]
  },
  {
   "cell_type": "code",
   "execution_count": null,
   "metadata": {
    "colab": {
     "base_uri": "https://localhost:8080/"
    },
    "id": "JlOwO6U7Wdf3",
    "outputId": "11fa68e8-9e21-45d7-9822-8afcbbf64345"
   },
   "outputs": [
    {
     "name": "stdout",
     "output_type": "stream",
     "text": [
      "Homo_sapiens.GRCh38.dna.chromosome.1.fa\n"
     ]
    }
   ],
   "source": [
    "\n",
    "\n",
    "for file_name in os.listdir():\n",
    "    if \"Homo\" in file_name:\n",
    "        print(file_name)\n",
    "        with open(file_name, 'r') as file:\n",
    "            line = np.array(list(''.join(''.join(file.readlines()[1:]).split('\\n'))))\n",
    "#             np.random.shuffle(line)\n",
    "#             line = ''.join(line)\n",
    "            print(line[:100])\n",
    "            break\n",
    "\n",
    "    # with open(path + 'shuffled/' + file_name, 'a') as file:\n",
    "    #   header = '>' + file_name + '\\n'\n",
    "    #   file.write(header)\n",
    "\n",
    "    #   for i in range(0, len(line), lines_len):\n",
    "    #     if (i + lines_len <=  len(line)):\n",
    "    #       file.write(line[i: i + lines_len] + '\\n')\n",
    "    #     else:\n",
    "    #       file.write(line[i: -1])"
   ]
  },
  {
   "cell_type": "code",
   "execution_count": null,
   "metadata": {
    "id": "QmYNPSsTW0vD"
   },
   "outputs": [],
   "source": []
  }
 ],
 "metadata": {
  "colab": {
   "provenance": []
  },
  "kernelspec": {
   "display_name": "Python 3",
   "language": "python",
   "name": "python3"
  },
  "language_info": {
   "codemirror_mode": {
    "name": "ipython",
    "version": 3
   },
   "file_extension": ".py",
   "mimetype": "text/x-python",
   "name": "python",
   "nbconvert_exporter": "python",
   "pygments_lexer": "ipython3",
   "version": "3.8.8"
  }
 },
 "nbformat": 4,
 "nbformat_minor": 1
}
